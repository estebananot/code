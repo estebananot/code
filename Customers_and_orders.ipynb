{
  "cells": [
    {
      "cell_type": "markdown",
      "metadata": {
        "id": "view-in-github",
        "colab_type": "text"
      },
      "source": [
        "<a href=\"https://colab.research.google.com/github/estebananot/code/blob/main/Customers_and_orders.ipynb\" target=\"_parent\"><img src=\"https://colab.research.google.com/assets/colab-badge.svg\" alt=\"Open In Colab\"/></a>"
      ]
    },
    {
      "cell_type": "markdown",
      "metadata": {
        "id": "piiX_CRNFYUi"
      },
      "source": [
        "# Technical Challenge ! Custiomers and Orders - The lifeblood of any business!\n",
        "\n",
        "This notebook depends on two data files: customers.scv and orders.csv. These files are hosted in the cloud (or Github), so for simplicity, we are providing you with the code to download and save the two files in a folder called 'sample_data' which lives within this notebook session (not on your local computer nor Google Drive).\n",
        "\n",
        "![sample_data folder in notebook session](https://raw.githubusercontent.com/anyoneai/notebooks/main/customers_and_orders/images/sample_data_folder.png)\n",
        "\n",
        "Please execute the first code snippet before moving to the rest of the exercise as this code will import the data from the files for you to be able to execute the rest of the exercise.\n",
        "\n",
        "Remember as we said in the previous lecture, you have to save this notebook into your Google Drive by going to menu File/Save a Copy In Drive, or clicking in the button \"Copy to Drive\". This way, you will not lose any work you've done and the file will persist with your latest changes in your Google Drive. Also we recommend you to rename your .ipynb in your Google Drive, so you can easily find it in the future."
      ]
    },
    {
      "cell_type": "code",
      "execution_count": null,
      "metadata": {
        "colab": {
          "base_uri": "https://localhost:8080/"
        },
        "id": "MWpVO242FQHC",
        "outputId": "fc590fb1-aada-40bb-e9e7-40c030980e73"
      },
      "outputs": [
        {
          "output_type": "stream",
          "name": "stdout",
          "text": [
            "Customers and orders CSV files have been added './sample_data'\n"
          ]
        }
      ],
      "source": [
        "import requests\n",
        "\n",
        "def import_data_files():\n",
        "  r = requests.get('https://raw.githubusercontent.com/anyoneai/notebooks/main/customers_and_orders/data/customers.csv')\n",
        "  with open('./sample_data/customers.csv', 'wb') as f:\n",
        "    f.write(r.content)\n",
        "\n",
        "  r = requests.get('https://raw.githubusercontent.com/anyoneai/notebooks/main/customers_and_orders/data/orders.csv')\n",
        "  with open('./sample_data/orders.csv', 'wb') as f:\n",
        "    f.write(r.content)\n",
        "\n",
        "import_data_files()\n",
        "print(\"Customers and orders CSV files have been added './sample_data'\")"
      ]
    },
    {
      "cell_type": "markdown",
      "metadata": {
        "id": "JQAduY-RWKyB"
      },
      "source": [
        "# Exercise 1: Processing Customers data (difficulty medium)\n",
        "\n",
        "The sample customer data in 'customers.csv' file has just 5 columns: CustomerId, First Name, Last Name, City and State\n",
        "\n",
        "![Data sample](https://raw.githubusercontent.com/anyoneai/notebooks/main/customers_and_orders/images/customers.png)\n",
        "\n",
        "We strongly recommend that you complete from the [Prep Course: Intro to Python](https://colab.research.google.com/github/anyoneai/notebooks/blob/main/python3_crash_course.ipynb) the following section:\n",
        "- Section 7: File I/O (to understand how to read CSV file)\n",
        "- Section 6: For Loop (to navigate the contents of the CSV file)\n",
        "- Section 5: Tuples, Lists, and Dictionaries (to manipulate the data of the CSV file)\n",
        "\n",
        "With this, we hope you can complete this exercise successfully. Although if you want to solve this with libraries or any other way, you are welcome to do it your way.\n",
        "\n",
        "*Hint:* We advise you to take a look at the data before you start.\n",
        "**if you want to manually take a look at the data before you start, please see the content of the data [here](https://github.com/anyoneai/notebooks/blob/main/customers_and_orders/data/customers.csv).\n",
        "\n",
        "*Hint*: There are many ways to do this exercise you can do your own, although here's some help. You can solve this exercise reading and parsing CSV files, structuring data into dictionaries, and using for loops to navigate the contents\n",
        "\n",
        "*Hint*: Also, keep in mind that data might not be clean and you might have to figure out how to deal with that data from the code, without having to modify the data source.\n",
        "\n",
        "Below are the 5 questions you'll have to answer to pass the evaluation:"
      ]
    },
    {
      "cell_type": "markdown",
      "metadata": {
        "id": "kJq7S8sBfbOW"
      },
      "source": [
        "**Question 1:** How many customers are in the file?\n",
        "(as help, we have added some comments and starter code to help you structure the solution)"
      ]
    },
    {
      "cell_type": "code",
      "execution_count": 25,
      "metadata": {
        "colab": {
          "base_uri": "https://localhost:8080/"
        },
        "id": "oMnUFBFb2RUb",
        "outputId": "8a5c3562-b925-4db8-c1e8-e5cad51ada24"
      },
      "outputs": [
        {
          "output_type": "stream",
          "name": "stdout",
          "text": [
            "['CustomerID', 'FirstName', 'LastName', 'City', 'State']\n",
            "Total number of customers: 602\n"
          ]
        }
      ],
      "source": [
        "from os.path import exists\n",
        "import csv\n",
        "\n",
        "# check if file can be found and open the file\n",
        "datafile = \"./sample_data/customers.csv\"\n",
        "if not exists(datafile):\n",
        "  raise SystemExit(\"You should run the first code cell and download the dataset files!\")\n",
        "\n",
        "# Initialize a customer count\n",
        "customer_count = 0\n",
        "\n",
        "# customers file is in the sample_data folder and can be opened.\n",
        "# Using csv reader is one way of dealing with the file\n",
        "# but it's up to you how you want to proceed\n",
        "with open(datafile, 'r') as fl:\n",
        "  csvreader = csv.reader(fl, delimiter=',')\n",
        "\n",
        "  # Skip the header row and check\n",
        "  print(next(csvreader))\n",
        "\n",
        "  for row in csvreader:\n",
        "      customer_count += 1\n",
        "\n",
        "# Print the total number of customers\n",
        "print(\"Total number of customers:\", customer_count)"
      ]
    },
    {
      "cell_type": "markdown",
      "metadata": {
        "id": "uffBnNgz_570"
      },
      "source": [
        "**Question 2:** In how many different states do the customers live in?"
      ]
    },
    {
      "cell_type": "code",
      "execution_count": 30,
      "metadata": {
        "id": "Bi_yid0sMe3-",
        "colab": {
          "base_uri": "https://localhost:8080/"
        },
        "outputId": "5667fa1d-d4f3-444e-8b05-e227e35580ed"
      },
      "outputs": [
        {
          "output_type": "stream",
          "name": "stdout",
          "text": [
            "['CustomerID', 'FirstName', 'LastName', 'City', 'State']\n",
            "{'CA', 'FL', 'NM', 'ID', 'MA', 'CO', 'UT', 'NV', 'IN', 'OR', 'WA', 'AZ', 'NH', 'TX'}\n",
            "Number of different states customers live in: 14\n"
          ]
        }
      ],
      "source": [
        "# open file and init vars\n",
        "unique_states = set()\n",
        "\n",
        "with open(datafile, 'r') as fl:\n",
        "  csvreader = csv.reader(fl, delimiter=',')\n",
        "\n",
        "  # Skip the header row\n",
        "  print(next(csvreader, None))\n",
        "\n",
        "  # Iterate through the rows of the file\n",
        "  for row in csvreader:\n",
        "    state = row[4].strip().upper()  # Clean and standardize the state representation  # The \"State\" column is the fourth column (index 3)\n",
        "    unique_states.add(state)\n",
        "\n",
        "# Convert the set into a sorted list\n",
        "sorted_states = sorted(unique_states)\n",
        "# Print the states one by one in a readable format\n",
        "print(unique_states)\n",
        "#Count how many unique states there are\n",
        "num_unique_states = len(unique_states)\n",
        "\n",
        "print(\"Number of different states customers live in:\", num_unique_states)\n",
        "# evaluate the contents of the file"
      ]
    },
    {
      "cell_type": "markdown",
      "metadata": {
        "id": "DC59SZYiMfNY"
      },
      "source": [
        "**Question 3** What is the state with most customers?"
      ]
    },
    {
      "cell_type": "code",
      "execution_count": 33,
      "metadata": {
        "id": "tfGU3w-OMhA9",
        "colab": {
          "base_uri": "https://localhost:8080/"
        },
        "outputId": "0e2faa20-3816-40e4-f120-3f32e0ad3f62"
      },
      "outputs": [
        {
          "output_type": "stream",
          "name": "stdout",
          "text": [
            "{'CA': 569, 'AZ': 6, 'NV': 8, 'FL': 3, 'WA': 1, 'NH': 1, 'ID': 1, 'CO': 3, 'TX': 2, 'NM': 3, 'OR': 1, 'UT': 2, 'MA': 1, 'IN': 1}\n",
            "State with the most customers: CA\n",
            "Number of customers in that state: 569\n"
          ]
        }
      ],
      "source": [
        "# open file and init vars\n",
        "# Create a dictionary to store the count of customers in each state\n",
        "customer_count_by_state = {}\n",
        "\n",
        "# Open the CSV file and read the \"State\" column to count customers by state\n",
        "with open(datafile, 'r') as file:\n",
        "    csvreader = csv.reader(file, delimiter=',')\n",
        "\n",
        "    # Skip the header row\n",
        "    next(csvreader, None)\n",
        "\n",
        "    # Iterate through the rows of the file\n",
        "    for row in csvreader:\n",
        "        state = row[4].strip().upper()  # The \"State\" column is the fourth column (index 4) Clean data\n",
        "\n",
        "        # Update the customer count for the state\n",
        "        if state in customer_count_by_state:\n",
        "            customer_count_by_state[state] += 1\n",
        "        else:\n",
        "            customer_count_by_state[state] = 1\n",
        "\n",
        "# Find the state with the most customers\n",
        "max_state = max(customer_count_by_state, key=customer_count_by_state.get)\n",
        "max_customers = customer_count_by_state[max_state]\n",
        "\n",
        "print(customer_count_by_state)\n",
        "# Print the state with the most customers and the number of customers\n",
        "print(\"State with the most customers:\", max_state)\n",
        "print(\"Number of customers in that state:\", max_customers)\n",
        "# evaluate the contents of the file"
      ]
    },
    {
      "cell_type": "markdown",
      "metadata": {
        "id": "7mcM6cUAMhLB"
      },
      "source": [
        "**Question 4** What is the state with the least customers?"
      ]
    },
    {
      "cell_type": "code",
      "execution_count": 43,
      "metadata": {
        "id": "8T0Ka2RqMi3P",
        "colab": {
          "base_uri": "https://localhost:8080/"
        },
        "outputId": "48bd64f5-a326-4000-de80-6ed795fd511d"
      },
      "outputs": [
        {
          "output_type": "stream",
          "name": "stdout",
          "text": [
            "{'WA': 1, 'NH': 1, 'ID': 1, 'OR': 1, 'MA': 1, 'IN': 1}\n"
          ]
        }
      ],
      "source": [
        "# open file and init vars\n",
        "\n",
        "# Create a dictionary to store the count of customers in each state\n",
        "customer_count_by_state = {}\n",
        "\n",
        "# Open the CSV file and read the \"State\" column to count customers by state\n",
        "with open(datafile, 'r') as file:\n",
        "    csvreader = csv.reader(file, delimiter=',')\n",
        "\n",
        "    # evaluate the contents of the file\n",
        "    # Skip the header row\n",
        "    next(csvreader, None)\n",
        "\n",
        "    # Iterate through the rows of the file\n",
        "    for row in csvreader:\n",
        "        state = row[4].strip().upper()  # The \"State\" column is the fourth column (index 4) Clean data\n",
        "\n",
        "        # Update the customer count for the state\n",
        "        if state in customer_count_by_state:\n",
        "            customer_count_by_state[state] += 1\n",
        "        else:\n",
        "            customer_count_by_state[state] = 1\n",
        "\n",
        "#dictionary with all the states because there is more than one data\n",
        "customer_count_by_state_min = {}\n",
        "\n",
        "# Print the state with the least customers and the number of customers\n",
        "for state in customer_count_by_state:\n",
        "  if customer_count_by_state[state] == 1:\n",
        "    customer_count_by_state_min[state] = customer_count_by_state[state]\n",
        "\n",
        "print(customer_count_by_state_min)"
      ]
    },
    {
      "cell_type": "markdown",
      "metadata": {
        "id": "h6fIy7hXHF6A"
      },
      "source": [
        "**Question 5:** What is the most common last name?"
      ]
    },
    {
      "cell_type": "code",
      "execution_count": 42,
      "metadata": {
        "id": "k8M1DmA75Km7",
        "colab": {
          "base_uri": "https://localhost:8080/"
        },
        "outputId": "6b49fa76-595b-4c40-ab60-4fdcd2684531"
      },
      "outputs": [
        {
          "output_type": "stream",
          "name": "stdout",
          "text": [
            "Most common last name: SMITH\n",
            "Count: 8\n"
          ]
        }
      ],
      "source": [
        "# open file and init vars\n",
        "from collections import Counter\n",
        "# Create a list to store all last names\n",
        "last_names = []\n",
        "\n",
        "# Open the CSV file and read the \"Last Name\" column\n",
        "with open(datafile, 'r') as file:\n",
        "    csvreader = csv.reader(file, delimiter=',')\n",
        "\n",
        "    # Skip the header row\n",
        "    next(csvreader, None)\n",
        "\n",
        "    # Iterate through the rows of the file and extract last names\n",
        "    for row in csvreader:\n",
        "        last_name = row[2].strip().upper()  # The \"Last Name\" column is the third column (index 2)\n",
        "        last_names.append(last_name)\n",
        "\n",
        "# Use Counter to count the occurrences of each last name\n",
        "last_name_counts = Counter(last_names)\n",
        "\n",
        "# Find the most common last name\n",
        "most_common_last_name = last_name_counts.most_common(1)[0]\n",
        "\n",
        "# Print the most common last name and its count\n",
        "print(\"Most common last name:\", most_common_last_name[0])\n",
        "print(\"Count:\", most_common_last_name[1])\n",
        "# evaluate the contents of the file"
      ]
    },
    {
      "cell_type": "markdown",
      "metadata": {
        "id": "YPRma1t9NoFk"
      },
      "source": [
        "# Exercise 2: Processing Orders data (difficulty high)\n",
        "\n",
        "The second sample files contains orders placed by customers from the first file. Be careful, this file has many rows and you most likely should not print the contents of the whole file.\n",
        "\n",
        "The file contains the following columns: CustomerID, OrderID, Date, OrderTotal, ProductName, Price\n",
        "\n",
        "![Data sample](https://raw.githubusercontent.com/anyoneai/notebooks/main/customers_and_orders/images/orders.png)\n",
        "\n",
        "*Hint:* We advise you to take a look at the data before you start.\n",
        "**if you want to manually take a look at the data before you start, please see the content of the data [here](https://raw.githubusercontent.com/anyoneai/notebooks/main/customers_and_orders/data/orders.csv).\n",
        "\n",
        "*Hint*: There are many ways to do this exercise you can do your own, although here's some help. You can solve this exercise reading and parsing CSV files, structuring data into dictionaries, and using for loops to navigate the contents\n",
        "\n",
        "*Hint*: Also, the data is not clean and you will have to figure out how to deal with that data from the code, without having to modify the data source.\n",
        "\n",
        "\n",
        "\n",
        "**Question #1:** How many unique orders are in the orders.csv file?\n",
        "\n",
        "**Question #2:** What is the average number of items per order (rounded to two decimal places)?\n",
        "\n",
        "**Question #3:** What is the highest number of items per order?\n",
        "\n",
        "**Question #4:** What is the number of orders placed in October 2021?\n",
        "\n",
        "**Question #5:** Which customer spent the most amount of money in 2021?\n",
        "\n",
        "**Question #6:** Historically, what is the best month for sales?\n",
        "\n",
        "Once you get your answers, remember to go back to the course and introduce them in the multiple choice quiz"
      ]
    },
    {
      "cell_type": "code",
      "execution_count": 23,
      "metadata": {
        "id": "8ipJTrfs5QVM",
        "colab": {
          "base_uri": "https://localhost:8080/"
        },
        "outputId": "ca054b25-6bc1-4f75-a74e-19128d0b7077"
      },
      "outputs": [
        {
          "output_type": "stream",
          "name": "stdout",
          "text": [
            "['CustomerID', 'OrderID', 'Date', 'OrderTotal', 'ProductName', 'Price']\n"
          ]
        }
      ],
      "source": [
        "# open and evaluate orders.csv\n",
        "# check if file can be found and open the file\n",
        "datafileOrders = \"./sample_data/orders.csv\"\n",
        "if not exists(datafile):\n",
        "  raise SystemExit(\"You should run the first code cell and download the dataset files!\")\n",
        "\n",
        "# Open the CSV file and read the \"Last Name\" column\n",
        "with open(datafileOrders, 'r') as file:\n",
        "    csvreader = csv.reader(file, delimiter=',')\n",
        "\n",
        "    # Skip the header row\n",
        "    print(next(csvreader, None))"
      ]
    },
    {
      "cell_type": "markdown",
      "source": [
        "**Question #1:** How many unique orders are in the orders.csv file?"
      ],
      "metadata": {
        "id": "9depou0-YFAI"
      }
    },
    {
      "cell_type": "code",
      "source": [
        "# Create a set to store unique OrderIDs\n",
        "unique_order_ids = set()\n",
        "\n",
        "# Open the CSV file and read the \"Last Name\" column\n",
        "with open(datafileOrders, 'r') as file:\n",
        "    csvreader = csv.reader(file, delimiter=',')\n",
        "\n",
        "    # Skip the header row\n",
        "    next(csvreader, None)\n",
        "\n",
        "    # Iterate through the rows of the file\n",
        "    for row in csvreader:\n",
        "        order_id = row[1].strip()  # The \"OrderID\" column is the second column (index 1)\n",
        "        unique_order_ids.add(order_id)\n",
        "\n",
        "# Calculate the number of unique orders\n",
        "unique_order_count = len(unique_order_ids)\n",
        "# Print the number of unique orders\n",
        "print(\"Number of unique orders:\", unique_order_count)"
      ],
      "metadata": {
        "colab": {
          "base_uri": "https://localhost:8080/"
        },
        "id": "ARHT-I7EYJCp",
        "outputId": "1412646d-90a1-4009-8820-2e371e9fa329"
      },
      "execution_count": 47,
      "outputs": [
        {
          "output_type": "stream",
          "name": "stdout",
          "text": [
            "Number of unique orders: 16672\n"
          ]
        }
      ]
    },
    {
      "cell_type": "markdown",
      "source": [
        "**Question #2:** What is the average number of items per order (rounded to two decimal places)?\n"
      ],
      "metadata": {
        "id": "l3g1FqoEkD12"
      }
    },
    {
      "cell_type": "code",
      "source": [
        "# Create a dictionary to keep track of items per order\n",
        "items_per_order = {}\n",
        "\n",
        "# Open the CSV file and read the \"OrderID\" and \"ProductName\" columns\n",
        "with open(datafileOrders, 'r') as file:\n",
        "    csvreader = csv.reader(file, delimiter=',')\n",
        "\n",
        "    # Skip the header row\n",
        "    next(csvreader, None)\n",
        "\n",
        "    # Iterate through the rows of the file\n",
        "    for row in csvreader:\n",
        "        order_id = row[1].strip()  # The \"OrderID\" column is the second column (index 1)\n",
        "\n",
        "        # Use a dictionary to track items per order\n",
        "        items_per_order[order_id] = items_per_order.get(order_id, 0) + 1\n",
        "# Calculate the total number of items and total number of orders\n",
        "total_items = sum(items_per_order.values())\n",
        "total_orders = len(items_per_order)\n",
        "\n",
        "# Calculate the average number of items per order (rounded to two decimal places)\n",
        "average_items_per_order = round(total_items / total_orders, 2)\n",
        "\n",
        "# Print the average\n",
        "print(\"Average number of items per order:\", average_items_per_order)"
      ],
      "metadata": {
        "colab": {
          "base_uri": "https://localhost:8080/"
        },
        "id": "tmq4rJK1kJKo",
        "outputId": "bc3d2460-824c-4143-9e22-9b22683ac140"
      },
      "execution_count": 92,
      "outputs": [
        {
          "output_type": "stream",
          "name": "stdout",
          "text": [
            "Average number of items per order: 1.76\n"
          ]
        }
      ]
    },
    {
      "cell_type": "markdown",
      "source": [
        "**Question #3:** What is the highest number of items per order?"
      ],
      "metadata": {
        "id": "pZtxAM--l4yx"
      }
    },
    {
      "cell_type": "code",
      "source": [
        "# Initialize variables to keep track of the highest number of items and the order ID\n",
        "max_items = 0\n",
        "max_items_order_id = None\n",
        "\n",
        "# Create a dictionary to keep track of items per order\n",
        "items_per_order = {}\n",
        "\n",
        "# Open the CSV file and read the \"OrderID\" and \"ProductName\" columns\n",
        "with open(datafileOrders, 'r') as file:\n",
        "    csvreader = csv.reader(file, delimiter=',')\n",
        "\n",
        "    # Skip the header row\n",
        "    next(csvreader, None)\n",
        "\n",
        "    # Iterate through the rows of the file\n",
        "    for row in csvreader:\n",
        "        order_id = row[1].strip()  # The \"OrderID\" column is the second column (index 1)\n",
        "\n",
        "        # Use a dictionary to track items per order\n",
        "        items_per_order[order_id] = items_per_order.get(order_id, 0) + 1\n",
        "\n",
        "        # Check if the current order has more items than the maximum\n",
        "        if items_per_order[order_id] > max_items:\n",
        "            max_items = items_per_order[order_id]\n",
        "            max_items_order_id = order_id\n",
        "\n",
        "# Print the highest number of items per order and the associated order ID\n",
        "print(\"Highest number of items per order:\", max_items)\n",
        "print(\"Order ID with the highest number of items:\", max_items_order_id)"
      ],
      "metadata": {
        "colab": {
          "base_uri": "https://localhost:8080/"
        },
        "id": "tkn_FZeFl5Wx",
        "outputId": "6ead9b33-782a-4a2c-fcac-7c2b92ae1770"
      },
      "execution_count": 57,
      "outputs": [
        {
          "output_type": "stream",
          "name": "stdout",
          "text": [
            "Highest number of items per order: 35\n",
            "Order ID with the highest number of items: 5802666\n"
          ]
        }
      ]
    },
    {
      "cell_type": "markdown",
      "source": [
        "**Question #4:** What is the number of orders placed in October 2021?"
      ],
      "metadata": {
        "id": "HqrD4Gcgnb3k"
      }
    },
    {
      "cell_type": "code",
      "source": [
        "import datetime\n",
        "\n",
        "# Define the target month and year\n",
        "target_month = 10  # October\n",
        "target_year = 2021\n",
        "\n",
        "# Initialize a variable to keep track of the number of orders\n",
        "number_of_orders = 0\n",
        "\n",
        "# Open the CSV file and read the \"Date\" column\n",
        "with open(datafileOrders, 'r') as file:\n",
        "    csvreader = csv.reader(file, delimiter=',')\n",
        "\n",
        "    # Skip the header row\n",
        "    next(csvreader, None)\n",
        "\n",
        "    # Iterate through the rows of the file\n",
        "    for row in csvreader:\n",
        "        date_str = row[2].strip()  # The \"Date\" column is the third column (index 2)\n",
        "\n",
        "        # Check if the date string is not empty\n",
        "        if date_str:\n",
        "            # Parse the date string into a datetime object with the correct format\n",
        "            order_date = datetime.datetime.strptime(date_str, \"%Y-%m-%d %H:%M:%S.%f\")\n",
        "\n",
        "            # Check if the order date is in the target month and year\n",
        "            if order_date.month == target_month and order_date.year == target_year:\n",
        "                number_of_orders += 1\n",
        "\n",
        "# Print the number of orders placed in October 2021\n",
        "print(\"Number of orders placed in October 2021:\", number_of_orders)"
      ],
      "metadata": {
        "colab": {
          "base_uri": "https://localhost:8080/"
        },
        "id": "cWpGfxKQncPU",
        "outputId": "cddf5a59-8bfc-4547-8c74-50d1964e7283"
      },
      "execution_count": 72,
      "outputs": [
        {
          "output_type": "stream",
          "name": "stdout",
          "text": [
            "Number of orders placed in October 2021: 437\n"
          ]
        }
      ]
    },
    {
      "cell_type": "markdown",
      "source": [
        "**Question #5:** Which customer spent the most amount of money in 2021?\n"
      ],
      "metadata": {
        "id": "GlnaBl_Xpcsv"
      }
    },
    {
      "cell_type": "code",
      "source": [
        "# Define the target year\n",
        "target_year = 2021\n",
        "\n",
        "# Create a dictionary to track the total spending for each customer\n",
        "customer_spending = {}\n",
        "\n",
        "# Open the CSV file and read the \"CustomerID,\" \"OrderTotal,\" and \"Date\" columns\n",
        "with open(datafileOrders, 'r') as file:\n",
        "    csvreader = csv.reader(file, delimiter=',')\n",
        "\n",
        "    # Skip the header row\n",
        "    next(csvreader)\n",
        "\n",
        "    # Iterate through the rows of the file\n",
        "    for row in csvreader:\n",
        "        customer_id = row[0].strip()  # The \"CustomerID\" column is the first column (index 0)\n",
        "        order_total = float(row[5].strip())  # The \"OrderTotal\" column is the five column (index 5)\n",
        "        date_str = row[2].strip()  # The \"Date\" column is the third column (index 2)\n",
        "\n",
        "        # Initialize order_date as None\n",
        "        order_date = None\n",
        "\n",
        "        # Check if the date string is not empty\n",
        "        if date_str:\n",
        "            # Parse the date string into a datetime object with the correct format\n",
        "            order_date = datetime.datetime.strptime(date_str, \"%Y-%m-%d %H:%M:%S.%f\")\n",
        "\n",
        "        # Check if order_date is not None and if the order date year is the target year\n",
        "        if order_date and order_date.year == target_year:\n",
        "            # Update the customer's total spending\n",
        "            customer_spending[customer_id] = customer_spending.get(customer_id, 0) + order_total\n",
        "\n",
        "# Find the customer with the highest spending in 2021\n",
        "customer_with_highest_spending = max(customer_spending, key=customer_spending.get)\n",
        "total_spending_highest = customer_spending[customer_with_highest_spending]\n",
        "# Print the customer who spent the most amount of money in 2021 and their total spending\n",
        "print(\"Customer who spent the most in 2021:\", customer_with_highest_spending)\n",
        "print(\"Total spending in 2021:\", total_spending_highest)"
      ],
      "metadata": {
        "colab": {
          "base_uri": "https://localhost:8080/"
        },
        "id": "-mMo44kmpid3",
        "outputId": "8edced80-9589-478f-892e-ecdae9dc789e"
      },
      "execution_count": 87,
      "outputs": [
        {
          "output_type": "stream",
          "name": "stdout",
          "text": [
            "Customer who spent the most in 2021: 5172443\n",
            "Total spending in 2021: 7675.0\n"
          ]
        }
      ]
    },
    {
      "cell_type": "markdown",
      "source": [
        "\n",
        "**Question #6:** Historically, what is the best month for sales?"
      ],
      "metadata": {
        "id": "jYHzGsBCpi5Y"
      }
    },
    {
      "cell_type": "code",
      "source": [
        "# Create a dictionary to track total sales by month\n",
        "monthly_sales = {}\n",
        "\n",
        "# Open the CSV file and read the \"Date\" and \"OrderTotal\" columns\n",
        "with open(datafileOrders, 'r') as file:\n",
        "    csvreader = csv.reader(file, delimiter=',')\n",
        "\n",
        "    # Skip the header row\n",
        "    next(csvreader)\n",
        "\n",
        "    # Iterate through the rows of the file\n",
        "    for row in csvreader:\n",
        "        date_str = row[2].strip()  # The \"Date\" column is the third column (index 2)\n",
        "        order_total = float(row[3].strip())  # The \"OrderTotal\" column is the fourth column (index 3)\n",
        "\n",
        "        # Check if the date string is not empty\n",
        "        if date_str:\n",
        "            # Parse the date string into a datetime object with the correct format\n",
        "            order_date = datetime.datetime.strptime(date_str, \"%Y-%m-%d %H:%M:%S.%f\")\n",
        "\n",
        "        # Extract the month and year from the date\n",
        "        month_year = order_date.strftime(\"%Y-%m\")\n",
        "\n",
        "        # Update the monthly sales total\n",
        "        if month_year in monthly_sales:\n",
        "            monthly_sales[month_year] += order_total\n",
        "        else:\n",
        "            monthly_sales[month_year] = order_total\n",
        "\n",
        "# Find the month with the highest sales\n",
        "best_month = max(monthly_sales, key=monthly_sales.get)\n",
        "total_sales_best_month = monthly_sales[best_month]\n",
        "# Print the best sales month and the total sales in that month\n",
        "print(\"Best sales month:\", best_month)\n",
        "print(\"Total sales in the best month:\", total_sales_best_month)"
      ],
      "metadata": {
        "colab": {
          "base_uri": "https://localhost:8080/"
        },
        "id": "AR2yBmtqtRvO",
        "outputId": "ff62ba50-e845-4692-a0a3-6a386e3cd4c1"
      },
      "execution_count": 93,
      "outputs": [
        {
          "output_type": "stream",
          "name": "stdout",
          "text": [
            "Best sales month: 2011-07\n",
            "Total sales in the best month: 174131.0\n"
          ]
        }
      ]
    },
    {
      "cell_type": "markdown",
      "metadata": {
        "id": "ie0JW4FAk6Os"
      },
      "source": [
        "# Finished!\n",
        "\n",
        "Hope this was not too difficult and slicing and dicing the datasets was some fun. Now head on back to the course and provide the answers to the questions from this exercise."
      ]
    }
  ],
  "metadata": {
    "colab": {
      "provenance": [],
      "include_colab_link": true
    },
    "kernelspec": {
      "display_name": "Python 3 (ipykernel)",
      "language": "python",
      "name": "python3"
    },
    "language_info": {
      "codemirror_mode": {
        "name": "ipython",
        "version": 3
      },
      "file_extension": ".py",
      "mimetype": "text/x-python",
      "name": "python",
      "nbconvert_exporter": "python",
      "pygments_lexer": "ipython3",
      "version": "3.9.9"
    }
  },
  "nbformat": 4,
  "nbformat_minor": 0
}